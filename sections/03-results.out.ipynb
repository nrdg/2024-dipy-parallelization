{
 "cells": [
  {
   "cell_type": "markdown",
   "metadata": {},
   "source": [
    "# \n",
    "\n",
    "# Results\n",
    "\n",
    "Parallelization with `ray` provides improved run-times across a range of different configurations.\n",
    "\n",
    "Efficiency decreases as a function of number of CPUs, but is still rather high in many configurations.\n",
    "\n",
    "Ray tends to spill a large amount of data to disk and does not clean up afterwards."
   ],
   "id": "7d8a18b7-ec33-4a5c-a9c1-5abbcb1dc4a9"
  }
 ],
 "nbformat": 4,
 "nbformat_minor": 5,
 "metadata": {}
}
