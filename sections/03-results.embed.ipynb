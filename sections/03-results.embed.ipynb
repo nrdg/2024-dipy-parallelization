{
 "cells": [
  {
   "cell_type": "markdown",
   "metadata": {},
   "source": [
    "# \n",
    "\n",
    "# Results\n",
    "\n",
    "Parallelization with `ray` provides improved run-times across a range of different configurations.\n",
    "\n",
    "Efficiency decreases as a function of number of CPUs, but is still rather high in many configurations.\n",
    "\n",
    "Ray tends to spill a large amount of data to disk and does not clean up afterwards."
   ],
   "id": "807ae3aa-023b-47b0-a096-29c469d9d969"
  }
 ],
 "nbformat": 4,
 "nbformat_minor": 5,
 "metadata": {}
}
