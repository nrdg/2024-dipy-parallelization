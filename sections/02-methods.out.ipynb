{
 "cells": [
  {
   "cell_type": "markdown",
   "metadata": {},
   "source": [
    "# \n",
    "\n",
    "# Methods"
   ],
   "id": "ddd2bde5-9dbe-4a2a-8306-cd5ca5d2de6e"
  }
 ],
 "nbformat": 4,
 "nbformat_minor": 5,
 "metadata": {}
}
